{
 "cells": [
  {
   "cell_type": "code",
   "execution_count": 15,
   "metadata": {},
   "outputs": [],
   "source": [
    "\n",
    "from selenium import webdriver\n",
    "from selenium.webdriver.common.keys import Keys\n",
    "from time import sleep\n",
    "import pandas as pd\n",
    "from random import randint\n",
    "from selenium.webdriver.common.by import By\n",
    "import requests\n",
    "from lxml import html"
   ]
  },
  {
   "cell_type": "code",
   "execution_count": 19,
   "metadata": {},
   "outputs": [
    {
     "name": "stderr",
     "output_type": "stream",
     "text": [
      "C:\\Users\\Usuario\\AppData\\Local\\Temp\\ipykernel_5800\\955417061.py:1: DeprecationWarning: executable_path has been deprecated, please pass in a Service object\n",
      "  driver=webdriver.Chrome(r'C:\\\\Users\\\\Usuario\\\\OneDrive\\\\Escritorio\\\\airbnb\\\\chromedriver.exe')\n"
     ]
    }
   ],
   "source": [
    "#driver=webdriver.Chrome(r'C:\\\\Users\\\\Usuario\\\\OneDrive\\\\Escritorio\\\\airbnb\\\\chromedriver.exe')\n",
    "response=requests.get('https://www.airbnb.com.co/s/Bogot%C3%A1--Colombia/homes?tab_id=home_tab&refinement_paths%5B%5D=%2Fhomes&flexible_trip_lengths%5B%5D=one_week&price_filter_input_type=0&price_filter_num_nights=5&query=Bogot%C3%A1%2C%20Colombia&place_id=ChIJKcumLf2bP44RFDmjIFVjnSM&date_picker_type=calendar&checkin=2023-01-14&checkout=2023-01-18&source=structured_search_input_header&search_type=autocomplete_click')"
   ]
  },
  {
   "cell_type": "code",
   "execution_count": 20,
   "metadata": {},
   "outputs": [],
   "source": [
    "notice=response.content.decode('utf-8')\n",
    "parsed = html.fromstring(notice)"
   ]
  },
  {
   "cell_type": "code",
   "execution_count": 24,
   "metadata": {},
   "outputs": [
    {
     "name": "stdout",
     "output_type": "stream",
     "text": [
      "[<Element div at 0x2eb1a556de0>, <Element div at 0x2eb1d4f6f70>, <Element div at 0x2eb1d4f65c0>, <Element div at 0x2eb1d4f6570>, <Element div at 0x2eb1d4f6520>, <Element div at 0x2eb1d4f64d0>, <Element div at 0x2eb1d4f6480>, <Element div at 0x2eb1d4f6430>, <Element div at 0x2eb1d4f63e0>, <Element div at 0x2eb1d4f6390>, <Element div at 0x2eb1d4f6ed0>, <Element div at 0x2eb1d4f6f20>, <Element div at 0x2eb1d4f7290>, <Element div at 0x2eb1d4f7240>, <Element div at 0x2eb1d4f71f0>, <Element div at 0x2eb1d4f71a0>, <Element div at 0x2eb1d4f7150>, <Element div at 0x2eb1d4f7100>]\n"
     ]
    }
   ],
   "source": [
    "boxes=parsed.xpath('//div[@class=\"gh7uyir giajdwt g14v8520 dir dir-ltr\"]/div[not(@class)]')\n",
    "print(boxes)\n",
    "    "
   ]
  },
  {
   "cell_type": "code",
   "execution_count": null,
   "metadata": {},
   "outputs": [],
   "source": []
  }
 ],
 "metadata": {
  "kernelspec": {
   "display_name": "Python 3",
   "language": "python",
   "name": "python3"
  },
  "language_info": {
   "codemirror_mode": {
    "name": "ipython",
    "version": 3
   },
   "file_extension": ".py",
   "mimetype": "text/x-python",
   "name": "python",
   "nbconvert_exporter": "python",
   "pygments_lexer": "ipython3",
   "version": "3.10.4"
  },
  "orig_nbformat": 4,
  "vscode": {
   "interpreter": {
    "hash": "c63d8c7d738c2960218a10995aedf0a7f67a49a231e71037adf0440953cdb45b"
   }
  }
 },
 "nbformat": 4,
 "nbformat_minor": 2
}
